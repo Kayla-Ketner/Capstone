{
 "cells": [
  {
   "cell_type": "code",
   "execution_count": null,
   "id": "e15ff49d-8d66-495c-ab75-5cf7059fab9d",
   "metadata": {},
   "outputs": [],
   "source": [
    "import pandas as pd\n",
    "import matplotlib.pyplot as plt\n",
    "import seaborn as sns\n",
    "import re\n",
    "import numpy as np\n",
    "from scipy.stats import zscore\n",
    "\n",
    "%matplotlib inline"
   ]
  },
  {
   "cell_type": "code",
   "execution_count": null,
   "id": "c601dc2c-c4f1-4255-9cc7-b176e0863787",
   "metadata": {},
   "outputs": [],
   "source": [
    "day=pd.read_csv('../data/dailydata.csv')\n",
    "pd.set_option('display.max_columns', None)\n",
    "day.head()"
   ]
  },
  {
   "cell_type": "code",
   "execution_count": null,
   "id": "cddfc8f7-893b-4ca0-aeb4-76258e1330cf",
   "metadata": {},
   "outputs": [],
   "source": [
    "day2=day.drop(columns=['STATION', 'LATITUDE', 'LONGITUDE', 'ELEVATION', 'NAME', 'ACMH', 'ACMH_ATTRIBUTES', 'ACSH', 'ACSH_ATTRIBUTES', 'FRGB', 'FRGB_ATTRIBUTES', 'FRGT','FRGT_ATTRIBUTES', 'FRTH', 'FRTH_ATTRIBUTES', 'GAHT', 'GAHT_ATTRIBUTES', 'WDF1', 'WDF1_ATTRIBUTES', 'WDF2', 'WDF2_ATTRIBUTES', 'WDF5', 'WDF5_ATTRIBUTES', 'WDFG', 'WDFG_ATTRIBUTES', 'WDFM', 'WDFM_ATTRIBUTES', 'WSF1', 'WSF1_ATTRIBUTES', 'WSF2', 'WSF2_ATTRIBUTES', 'WSF5', 'WSF5_ATTRIBUTES', 'WT01', 'WT01_ATTRIBUTES', 'WT02', 'WT02_ATTRIBUTES', 'WT06', 'WT06_ATTRIBUTES', 'WT07', 'WT07_ATTRIBUTES', 'WT19', 'WT19_ATTRIBUTES', 'WT21', 'WT21_ATTRIBUTES', 'WT22', 'WT22_ATTRIBUTES', 'PGTM', 'PGTM_ATTRIBUTES', 'ADPT', 'ADPT_ATTRIBUTES', 'ASLP', 'ASLP_ATTRIBUTES', 'ASTP', 'ASTP_ATTRIBUTES', 'AWBT', 'AWBT_ATTRIBUTES'])\n",
    "day2.head()"
   ]
  },
  {
   "cell_type": "code",
   "execution_count": null,
   "id": "e51ae75f-fdd4-4723-ad15-3e25e5207c25",
   "metadata": {},
   "outputs": [],
   "source": [
    "day2.info()"
   ]
  },
  {
   "cell_type": "code",
   "execution_count": null,
   "id": "f2ddab92-22b1-4814-b9b6-8a411742b705",
   "metadata": {},
   "outputs": [],
   "source": [
    "day3=day2.drop(columns=['DAPR','DAPR_ATTRIBUTES', 'MDPR', 'MDPR_ATTRIBUTES', 'WT10', 'WT10_ATTRIBUTES'])\n",
    "day3.head()"
   ]
  },
  {
   "cell_type": "code",
   "execution_count": null,
   "id": "9ea93f57-98b1-4ac7-aa7f-2861b4c67797",
   "metadata": {},
   "outputs": [],
   "source": [
    "day3['DATE']=pd.to_datetime(day3['DATE'])"
   ]
  },
  {
   "cell_type": "code",
   "execution_count": null,
   "id": "c2e87944-605c-40b3-b6f9-25ad37029906",
   "metadata": {},
   "outputs": [],
   "source": [
    "day4=day3.loc[day3['DATE']>='1974-07-01'].reset_index(drop=True)\n",
    "day4.head()"
   ]
  },
  {
   "cell_type": "code",
   "execution_count": null,
   "id": "c773e5ac-f2e5-4378-b2ae-3a46b97044bc",
   "metadata": {},
   "outputs": [],
   "source": [
    "day4.info()"
   ]
  },
  {
   "cell_type": "code",
   "execution_count": null,
   "id": "7fa8eca0-82a4-4db3-ac45-e1b16c2c6f2e",
   "metadata": {},
   "outputs": [],
   "source": [
    "day5=day4.drop(columns=['WV03','WV03_ATTRIBUTES','WT11','WT11_ATTRIBUTES', 'WT15', 'WT15_ATTRIBUTES'])\n",
    "day5.info()"
   ]
  },
  {
   "cell_type": "code",
   "execution_count": null,
   "id": "a4dcd8f1-f6be-466b-a936-896199913efa",
   "metadata": {},
   "outputs": [],
   "source": [
    "day5['year'] = day5['DATE'].dt.year\n",
    "day5['month'] = day5['DATE'].dt.month\n",
    "day5['day'] = day5['DATE'].dt.day\n",
    "day5.head()"
   ]
  },
  {
   "cell_type": "code",
   "execution_count": null,
   "id": "c281ca21-e9d8-4813-876b-9f81e2f3ffd1",
   "metadata": {},
   "outputs": [],
   "source": [
    "day5['dayof']=day5['month'].astype(str)+'-'+day5['day'].astype(str)\n",
    "day5.head()"
   ]
  },
  {
   "cell_type": "code",
   "execution_count": null,
   "id": "952bb225-a95a-4dd8-bef8-33c794460c21",
   "metadata": {},
   "outputs": [],
   "source": [
    "day6=day5.drop(columns=['WT09','WT09_ATTRIBUTES','WSFG','WSFG_ATTRIBUTES', 'WSFM', 'WSFM_ATTRIBUTES','FMTM', 'FMTM_ATTRIBUTES'])"
   ]
  },
  {
   "cell_type": "code",
   "execution_count": null,
   "id": "3806d83d-2db2-4d6e-b940-4e680e27c7c5",
   "metadata": {},
   "outputs": [],
   "source": [
    "day6 = day6.rename(columns = {'DATE':'date', 'PRCP': 'precipitation', 'PRCP_ATTRIBUTES': 'precip_att', 'SNOW': 'snow', 'SNOW_ATTRIBUTES': 'snow_att', 'SNWD': 'snow_depth',\n",
    "       'SNWD_ATTRIBUTES':'snow_depth_att', 'TMAX': 'max_temp', 'TMAX_ATTRIBUTES':'max_temp_att', 'TMIN': 'min_temp', 'TMIN_ATTRIBUTES':'min_temp_att',\n",
    "       'AWND':'avg_daily_wind_speed', 'AWND_ATTRIBUTES': 'adws_att', 'PSUN': 'percent_possible_sun',\n",
    "       'PSUN_ATTRIBUTES': 'pps_att', 'RHAV': 'avg_relative_humidity', 'RHAV_ATTRIBUTES': 'arh_att', 'RHMN': 'min_rel_humidity', 'RHMN_ATTRIBUTES': 'minrh_att',\n",
    "       'RHMX': 'max_rel_humidity', 'RHMX_ATTRIBUTES': 'maxrh_att', 'TAVG':'avg_daily_temp', 'TAVG_ATTRIBUTES':'adt_att', 'TSUN': 'total_sun_mins' ,\n",
    "       'TSUN_ATTRIBUTES':'tsun_mins_att', 'WESD':'water_eq_snow_ground', 'WESD_ATTRIBUTES':'snow_ground_att', 'WT03': 'thunder', 'WT03_ATTRIBUTES':'thunder_att',\n",
    "       'WT04':'sleet', 'WT04_ATTRIBUTES': 'sleet_att', 'WT05': 'hail', 'WT05_ATTRIBUTES': 'hail_att', 'WT08':'smoke_haze',\n",
    "       'WT08_ATTRIBUTES':'smoke_haze_att', 'WT13':'mist', 'WT13_ATTRIBUTES':'mist_att', 'WT14': 'drizzle', 'WT14_ATTRIBUTES': 'drizzle_att',\n",
    "       'WT16':'rain', 'WT16_ATTRIBUTES':'rain_att', 'WT17':'freze_rain', 'WT17_ATTRIBUTES':'freeze_rain_att', 'WT18':'snowtype',\n",
    "       'WT18_ATTRIBUTES':'snowtype_att'})\n",
    "day6.columns"
   ]
  },
  {
   "cell_type": "code",
   "execution_count": null,
   "id": "8baba811-7016-4568-bb46-02e80ca31bb9",
   "metadata": {},
   "outputs": [],
   "source": [
    "day7=day6.loc[day6['date']<'2024-07-01'].reset_index(drop=True)\n",
    "day7.tail()"
   ]
  },
  {
   "cell_type": "code",
   "execution_count": null,
   "id": "a2af6f30-1274-482f-a032-c7f9860c06c4",
   "metadata": {},
   "outputs": [],
   "source": [
    "day7.loc[day7['date']=='2024-06-30']"
   ]
  },
  {
   "cell_type": "code",
   "execution_count": null,
   "id": "8ef31914-16ef-4991-82a5-1dfeb4bd7be0",
   "metadata": {},
   "outputs": [],
   "source": [
    "def temp_switch(temp):\n",
    "    \n",
    "    faren = round(((temp/10) * 1.8)+32,0)\n",
    "        \n",
    "    return faren"
   ]
  },
  {
   "cell_type": "code",
   "execution_count": null,
   "id": "82f26594-05d5-4651-a728-0693f77b8b9a",
   "metadata": {},
   "outputs": [],
   "source": [
    "temp_switch(344.0)"
   ]
  },
  {
   "cell_type": "code",
   "execution_count": null,
   "id": "c36ba5db-3f83-4371-bfcb-db6a5d68b267",
   "metadata": {},
   "outputs": [],
   "source": [
    "day7['max_temp']=day7['max_temp'].apply(temp_switch)\n",
    "print(day7['max_temp'])"
   ]
  },
  {
   "cell_type": "code",
   "execution_count": null,
   "id": "81f83471-94bc-4c26-8985-ebeeaeb07e39",
   "metadata": {},
   "outputs": [],
   "source": [
    "day7['min_temp']=day7['min_temp'].apply(temp_switch)\n",
    "print(day7['min_temp'])"
   ]
  },
  {
   "cell_type": "code",
   "execution_count": null,
   "id": "bc690401-cdc0-4d65-8546-190823478709",
   "metadata": {},
   "outputs": [],
   "source": [
    "day7['avg_daily_temp']=day7['avg_daily_temp'].apply(temp_switch)\n",
    "print(day7['avg_daily_temp'])"
   ]
  },
  {
   "cell_type": "code",
   "execution_count": null,
   "id": "e0e90d3e-d0e4-4394-976c-13909e1b1450",
   "metadata": {},
   "outputs": [],
   "source": [
    "def wind_switch(wind):\n",
    "    \n",
    "    wind_mph = round(((wind/10) * 2.237),2)\n",
    "        \n",
    "    return wind_mph"
   ]
  },
  {
   "cell_type": "code",
   "execution_count": null,
   "id": "272f056b-8f55-4623-947a-7233298df7e3",
   "metadata": {},
   "outputs": [],
   "source": [
    "wind_switch(30.0)"
   ]
  },
  {
   "cell_type": "code",
   "execution_count": null,
   "id": "14fd58e1-ade9-419e-8205-330c8ca2dc0b",
   "metadata": {},
   "outputs": [],
   "source": [
    "day7['avg_daily_wind_speed']=day7['avg_daily_wind_speed'].apply(wind_switch)\n",
    "print(day7['avg_daily_wind_speed'])"
   ]
  },
  {
   "cell_type": "code",
   "execution_count": null,
   "id": "00172b3a-9333-41b2-83b7-f9c04d8a0952",
   "metadata": {},
   "outputs": [],
   "source": [
    "def water_switch(water):\n",
    "    \n",
    "    precip_in = round((water/10)/25.4,2)\n",
    "        \n",
    "    return precip_in"
   ]
  },
  {
   "cell_type": "code",
   "execution_count": null,
   "id": "2daa5fcb-96f1-47e0-b528-0467e5b8d280",
   "metadata": {},
   "outputs": [],
   "source": [
    "water_switch(56.0)"
   ]
  },
  {
   "cell_type": "code",
   "execution_count": null,
   "id": "f043c277-1cfe-41a1-9e06-f84fac4a99b6",
   "metadata": {},
   "outputs": [],
   "source": [
    "day7['precipitation']=day7['precipitation'].apply(water_switch)\n",
    "print(day7['precipitation'])"
   ]
  },
  {
   "cell_type": "code",
   "execution_count": null,
   "id": "bd9e867d-c037-4ea7-a4a0-a83ed8f983cd",
   "metadata": {},
   "outputs": [],
   "source": [
    "day7.loc[day7['snow']!=0]"
   ]
  },
  {
   "cell_type": "code",
   "execution_count": null,
   "id": "bf0d4485-4909-498f-a5a1-28209e69b39d",
   "metadata": {},
   "outputs": [],
   "source": [
    "def snow_switch(snow):\n",
    "    \n",
    "    snow_in = round(snow/25.4,2)\n",
    "        \n",
    "    return snow_in"
   ]
  },
  {
   "cell_type": "code",
   "execution_count": null,
   "id": "e857110e-2efb-4552-869d-2404fd268b5b",
   "metadata": {},
   "outputs": [],
   "source": [
    "snow_switch(160)"
   ]
  },
  {
   "cell_type": "code",
   "execution_count": null,
   "id": "7fc17ce9-c83d-4824-aa06-ef9c5bc793d7",
   "metadata": {},
   "outputs": [],
   "source": [
    "day7['snow']=day7['snow'].apply(snow_switch)\n",
    "print(day7['snow'])"
   ]
  },
  {
   "cell_type": "code",
   "execution_count": null,
   "id": "aec8ec4e-e066-4095-897f-830dd43f56d7",
   "metadata": {},
   "outputs": [],
   "source": [
    "day7['snow_depth']=day7['snow_depth'].apply(snow_switch)\n",
    "print(day7['snow_depth'])"
   ]
  },
  {
   "cell_type": "code",
   "execution_count": null,
   "id": "900e31ff-ea2e-4c3c-8eb5-2f6ff001b9ec",
   "metadata": {},
   "outputs": [],
   "source": [
    "day7.loc[day7['snow']!=0]"
   ]
  },
  {
   "cell_type": "code",
   "execution_count": null,
   "id": "c5f35536-0b2c-45df-a977-8b1ffb915148",
   "metadata": {},
   "outputs": [],
   "source": [
    "winter_months=[12,1,2]\n",
    "spring_months=[3,4,5]\n",
    "summer_months=[6,7,8]\n",
    "fall_months=[9,10,11]"
   ]
  },
  {
   "cell_type": "code",
   "execution_count": null,
   "id": "50410dee-f093-4b3e-8ba8-1e2c0cb1abee",
   "metadata": {},
   "outputs": [],
   "source": [
    "winter=day7.loc[day7['month'].isin(winter_months)]\n",
    "winter.tail()"
   ]
  },
  {
   "cell_type": "code",
   "execution_count": null,
   "id": "2a40d0ab-3225-4f94-8011-c1401dcf610f",
   "metadata": {},
   "outputs": [],
   "source": [
    "spring=day7.loc[day7['month'].isin(spring_months)]\n",
    "spring.tail()"
   ]
  },
  {
   "cell_type": "code",
   "execution_count": null,
   "id": "70296057-6e2c-4fc2-84c9-c07bfe30c024",
   "metadata": {},
   "outputs": [],
   "source": [
    "summer=day7.loc[day7['month'].isin(summer_months)]\n",
    "summer.tail()"
   ]
  },
  {
   "cell_type": "code",
   "execution_count": null,
   "id": "7a4245de-2c01-47f9-8ded-3448a90681af",
   "metadata": {},
   "outputs": [],
   "source": [
    "fall=day7.loc[day7['month'].isin(fall_months)]\n",
    "fall.tail()"
   ]
  },
  {
   "cell_type": "code",
   "execution_count": null,
   "id": "59c69e4f-357a-4bc8-bf13-8768f5bbd26c",
   "metadata": {},
   "outputs": [],
   "source": [
    "day_focus=day7.drop(columns=['precip_att', 'snow_att', 'snow_depth_att', 'max_temp_att', 'min_temp_att', 'adws_att',\n",
    "       'percent_possible_sun', 'pps_att', 'arh_att',\n",
    "       'min_rel_humidity', 'minrh_att', 'max_rel_humidity', 'maxrh_att','adt_att', 'total_sun_mins', 'tsun_mins_att',\n",
    "       'water_eq_snow_ground', 'snow_ground_att', 'thunder', 'thunder_att', 'sleet', 'sleet_att', 'hail', 'hail_att', 'smoke_haze',\n",
    "       'smoke_haze_att', 'mist', 'mist_att', 'drizzle', 'drizzle_att', 'rain', 'rain_att', 'freze_rain', 'freeze_rain_att', 'snowtype', 'snowtype_att'])"
   ]
  },
  {
   "cell_type": "code",
   "execution_count": null,
   "id": "eb0dee8c-d76e-48e1-9c19-9175e4f1f368",
   "metadata": {},
   "outputs": [],
   "source": [
    "winter1=day_focus.loc[day_focus['month'].isin(winter_months)].reset_index(drop=True)\n",
    "winter1.tail()"
   ]
  },
  {
   "cell_type": "code",
   "execution_count": null,
   "id": "58413e86-01c5-4d25-9197-bef8aadd1c90",
   "metadata": {},
   "outputs": [],
   "source": [
    "spring1=day_focus.loc[day_focus['month'].isin(spring_months)].reset_index(drop=True)\n",
    "spring1.tail()"
   ]
  },
  {
   "cell_type": "code",
   "execution_count": null,
   "id": "7b0737ba-98a0-4990-aeeb-7742baff53dd",
   "metadata": {},
   "outputs": [],
   "source": [
    "summer1=day_focus.loc[day_focus['month'].isin(summer_months)].reset_index(drop=True)\n",
    "summer1.tail()"
   ]
  },
  {
   "cell_type": "code",
   "execution_count": null,
   "id": "01cff358-61b2-4390-98fd-91ee24a6b99d",
   "metadata": {},
   "outputs": [],
   "source": [
    "fall1=day_focus.loc[day_focus['month'].isin(fall_months)].reset_index(drop=True)\n",
    "fall1.tail()"
   ]
  },
  {
   "cell_type": "code",
   "execution_count": null,
   "id": "2e8f5037-933a-4934-bfbe-8738641f08c3",
   "metadata": {},
   "outputs": [],
   "source": [
    "winter1['precipitation'].mean()"
   ]
  },
  {
   "cell_type": "code",
   "execution_count": null,
   "id": "179249ac-8516-421b-b349-a991772b881f",
   "metadata": {},
   "outputs": [],
   "source": [
    "spring1['precipitation'].mean()"
   ]
  },
  {
   "cell_type": "code",
   "execution_count": null,
   "id": "64ac0c11-762f-4c67-bf80-c93605c33716",
   "metadata": {},
   "outputs": [],
   "source": [
    "summer1['precipitation'].mean()"
   ]
  },
  {
   "cell_type": "code",
   "execution_count": null,
   "id": "4a514375-f1db-4b19-8bfe-09a6bb691d7e",
   "metadata": {},
   "outputs": [],
   "source": [
    "fall1['precipitation'].mean()"
   ]
  },
  {
   "cell_type": "code",
   "execution_count": null,
   "id": "dbcb486e-d2f4-4b28-9763-b6c4e833a1e4",
   "metadata": {},
   "outputs": [],
   "source": [
    "winter1['snow'].mean()"
   ]
  },
  {
   "cell_type": "code",
   "execution_count": null,
   "id": "5ba78eaf-bfad-4af5-98e5-9820a648bcd4",
   "metadata": {},
   "outputs": [],
   "source": [
    "spring1['snow'].mean()"
   ]
  },
  {
   "cell_type": "code",
   "execution_count": null,
   "id": "047943fc-7afb-4e52-ac25-a1b30bf7d2c7",
   "metadata": {},
   "outputs": [],
   "source": [
    "summer1['snow'].mean()"
   ]
  },
  {
   "cell_type": "code",
   "execution_count": null,
   "id": "2a518c52-63b8-436a-9c8c-25605a880f85",
   "metadata": {},
   "outputs": [],
   "source": [
    "fall1['snow'].mean()"
   ]
  },
  {
   "cell_type": "code",
   "execution_count": null,
   "id": "ff63cfa4-d4d8-4886-bda4-9bbf69f0fb06",
   "metadata": {},
   "outputs": [],
   "source": [
    "winter1['snow_depth'].mean()"
   ]
  },
  {
   "cell_type": "code",
   "execution_count": null,
   "id": "013bfaaf-bab6-49ac-97c2-f48e777a469a",
   "metadata": {},
   "outputs": [],
   "source": [
    "spring1['snow_depth'].mean()"
   ]
  },
  {
   "cell_type": "code",
   "execution_count": null,
   "id": "5f29eb50-0d1f-4bd6-95f1-9266ec2980c9",
   "metadata": {},
   "outputs": [],
   "source": [
    "summer1['snow_depth'].mean()"
   ]
  },
  {
   "cell_type": "code",
   "execution_count": null,
   "id": "5c835014-520f-41b6-976f-edc87d4a7187",
   "metadata": {},
   "outputs": [],
   "source": [
    "fall1['snow_depth'].mean()"
   ]
  },
  {
   "cell_type": "code",
   "execution_count": null,
   "id": "08675f69-54c4-4872-ba71-d4c7aee7bb0d",
   "metadata": {},
   "outputs": [],
   "source": [
    "winter1['max_temp'].mean()"
   ]
  },
  {
   "cell_type": "code",
   "execution_count": null,
   "id": "91163fec-0395-41c5-8bb1-87e1922ffda8",
   "metadata": {},
   "outputs": [],
   "source": [
    "spring1['max_temp'].mean()"
   ]
  },
  {
   "cell_type": "code",
   "execution_count": null,
   "id": "1a0a9d67-8508-4657-8fc4-ee8e881949f3",
   "metadata": {},
   "outputs": [],
   "source": [
    "summer1['max_temp'].mean()"
   ]
  },
  {
   "cell_type": "code",
   "execution_count": null,
   "id": "8647fbe0-3520-42d8-8764-8f17f50d1bbd",
   "metadata": {},
   "outputs": [],
   "source": [
    "fall1['max_temp'].mean()"
   ]
  },
  {
   "cell_type": "code",
   "execution_count": null,
   "id": "e6794cdb-201a-436c-9f0e-4a8cceacf232",
   "metadata": {},
   "outputs": [],
   "source": [
    "winter1['min_temp'].mean()"
   ]
  },
  {
   "cell_type": "code",
   "execution_count": null,
   "id": "9e35e189-d618-4b0d-a304-6d71021b0b0a",
   "metadata": {},
   "outputs": [],
   "source": [
    "spring1['min_temp'].mean()"
   ]
  },
  {
   "cell_type": "code",
   "execution_count": null,
   "id": "35bec976-de0a-48c4-b3c8-ca6a41680112",
   "metadata": {},
   "outputs": [],
   "source": [
    "summer1['min_temp'].mean()"
   ]
  },
  {
   "cell_type": "code",
   "execution_count": null,
   "id": "e033d5cf-08c6-4d10-86a6-b68b2cabca0a",
   "metadata": {},
   "outputs": [],
   "source": [
    "fall1['min_temp'].mean()"
   ]
  },
  {
   "cell_type": "code",
   "execution_count": null,
   "id": "5e4466af-3904-44dd-b58b-dc3ad8656f7f",
   "metadata": {},
   "outputs": [],
   "source": [
    "winter1['avg_daily_wind_speed'].mean()"
   ]
  },
  {
   "cell_type": "code",
   "execution_count": null,
   "id": "01f7ce1c-2d45-4e9a-aa9e-716cb54521e8",
   "metadata": {},
   "outputs": [],
   "source": [
    "spring1['avg_daily_wind_speed'].mean()"
   ]
  },
  {
   "cell_type": "code",
   "execution_count": null,
   "id": "1dc8ea8f-3c9d-4a79-808e-8ab93700c760",
   "metadata": {},
   "outputs": [],
   "source": [
    "summer1['avg_daily_wind_speed'].mean()"
   ]
  },
  {
   "cell_type": "code",
   "execution_count": null,
   "id": "b008fc20-156a-4156-a6ee-bb0140d6c145",
   "metadata": {},
   "outputs": [],
   "source": [
    "fall1['avg_daily_wind_speed'].mean()"
   ]
  },
  {
   "cell_type": "code",
   "execution_count": null,
   "id": "61fd65e1-061b-4a2f-aaf8-ffa27745114d",
   "metadata": {},
   "outputs": [],
   "source": [
    "winter1['avg_relative_humidity'].mean()"
   ]
  },
  {
   "cell_type": "code",
   "execution_count": null,
   "id": "b9af39fc-b6f8-444b-8533-0d0b839dddc9",
   "metadata": {},
   "outputs": [],
   "source": [
    "spring1['avg_relative_humidity'].mean()"
   ]
  },
  {
   "cell_type": "code",
   "execution_count": null,
   "id": "093a0942-d50e-462c-b83d-47573bee2a4b",
   "metadata": {},
   "outputs": [],
   "source": [
    "summer1['avg_relative_humidity'].mean()"
   ]
  },
  {
   "cell_type": "code",
   "execution_count": null,
   "id": "fe8cc05f-6e7d-455f-b803-719683152902",
   "metadata": {},
   "outputs": [],
   "source": [
    "fall1['avg_relative_humidity'].mean()"
   ]
  },
  {
   "cell_type": "code",
   "execution_count": null,
   "id": "0fffcb33-f4e4-4765-9e98-eebfb8258c30",
   "metadata": {},
   "outputs": [],
   "source": [
    "winter1['avg_daily_temp'].mean()"
   ]
  },
  {
   "cell_type": "code",
   "execution_count": null,
   "id": "fce00634-3130-423f-af02-7b8fef25078f",
   "metadata": {},
   "outputs": [],
   "source": [
    "spring1['avg_daily_temp'].mean()"
   ]
  },
  {
   "cell_type": "code",
   "execution_count": null,
   "id": "94e87a3d-689a-4e85-85c5-8046186caf6a",
   "metadata": {},
   "outputs": [],
   "source": [
    "summer1['avg_daily_temp'].mean()"
   ]
  },
  {
   "cell_type": "code",
   "execution_count": null,
   "id": "649825e5-c017-4d0c-9152-656876dbb931",
   "metadata": {},
   "outputs": [],
   "source": [
    "fall1['avg_daily_temp'].mean()"
   ]
  },
  {
   "cell_type": "code",
   "execution_count": null,
   "id": "53fec8f2-1557-4f21-8131-90ad19e469ff",
   "metadata": {},
   "outputs": [],
   "source": [
    "winter1.describe()"
   ]
  },
  {
   "cell_type": "code",
   "execution_count": null,
   "id": "d9de3b3b-c6b8-4e48-97fd-ebba9a58de24",
   "metadata": {},
   "outputs": [],
   "source": [
    "spring1.describe()"
   ]
  },
  {
   "cell_type": "code",
   "execution_count": null,
   "id": "b4121b21-83fa-41ae-8d69-e28a0ffbc579",
   "metadata": {},
   "outputs": [],
   "source": [
    "summer1.describe()"
   ]
  },
  {
   "cell_type": "code",
   "execution_count": null,
   "id": "9436d712-8885-4166-8ad2-2fd131b3018a",
   "metadata": {},
   "outputs": [],
   "source": [
    "fall1.describe()"
   ]
  },
  {
   "cell_type": "code",
   "execution_count": null,
   "id": "f48d9779-ce0c-428f-80db-a928258d84b2",
   "metadata": {},
   "outputs": [],
   "source": [
    "fprecip_mean=np.mean(fall1['precipitation'])"
   ]
  },
  {
   "cell_type": "code",
   "execution_count": null,
   "id": "37c88289-a14c-4b0b-82b7-a026ac439a5d",
   "metadata": {},
   "outputs": [],
   "source": [
    "fprecip_std=np.std(fall1['precipitation'])"
   ]
  },
  {
   "cell_type": "code",
   "execution_count": null,
   "id": "e4bd7f83-f3bb-4613-bda9-d8f4394707ef",
   "metadata": {},
   "outputs": [],
   "source": [
    "fzscores=(fall1['precipitation']-fprecip_mean)/fprecip_std\n",
    "print(fzscores)"
   ]
  },
  {
   "cell_type": "code",
   "execution_count": null,
   "id": "2b63d596-2796-493b-ae42-a73492956190",
   "metadata": {},
   "outputs": [],
   "source": [
    "outliers=np.where(fzscores > 3)\n",
    "fall1.iloc[outliers]"
   ]
  },
  {
   "cell_type": "code",
   "execution_count": null,
   "id": "82e38e46-746d-4bcd-8b52-d7b146641384",
   "metadata": {},
   "outputs": [],
   "source": [
    "zscore(fall1['precipitation'])"
   ]
  },
  {
   "cell_type": "code",
   "execution_count": null,
   "id": "d3c0c21f-af83-41aa-9c0f-38ed2a77b231",
   "metadata": {},
   "outputs": [],
   "source": [
    "fall1['precip_z']=zscore(fall1['precipitation'])\n",
    "fall1.head()"
   ]
  },
  {
   "cell_type": "code",
   "execution_count": null,
   "id": "f8d3be39-60fd-4afb-83ca-95eab6655000",
   "metadata": {},
   "outputs": [],
   "source": [
    "wprecip_mean=np.mean(winter1['precipitation'])\n",
    "wprecip_std=np.std(winter1['precipitation'])\n",
    "winter1['precip_z']=(winter1['precipitation']-wprecip_mean)/wprecip_std\n",
    "winter1.head()"
   ]
  },
  {
   "cell_type": "code",
   "execution_count": null,
   "id": "016b6735-de58-4f51-b146-3df82921b308",
   "metadata": {},
   "outputs": [],
   "source": [
    "wsnow_mean=np.mean(winter1['snow'])\n",
    "wsnow_std=np.std(winter1['snow'])\n",
    "winter1['snow_z']=(winter1['snow']-wsnow_mean)/wsnow_std\n",
    "winter1.head()"
   ]
  },
  {
   "cell_type": "code",
   "execution_count": null,
   "id": "b0b84efc-6310-4bbd-a94b-8744fe941efb",
   "metadata": {},
   "outputs": [],
   "source": [
    "winter1['maxt_z']=(winter1['max_temp']-np.mean(winter1['max_temp']))/np.std(winter1['max_temp'])\n",
    "winter1.head()"
   ]
  },
  {
   "cell_type": "code",
   "execution_count": null,
   "id": "0e4e0e52-a12d-4566-9f37-cb165650a440",
   "metadata": {},
   "outputs": [],
   "source": [
    "winter1['mint_z']=(winter1['min_temp']-np.mean(winter1['min_temp']))/np.std(winter1['min_temp'])"
   ]
  },
  {
   "cell_type": "code",
   "execution_count": null,
   "id": "62d32493-f480-4eff-8697-3a14ff22c7b8",
   "metadata": {},
   "outputs": [],
   "source": [
    "winter1['ws_z']=(winter1['avg_daily_wind_speed']-np.mean(winter1['avg_daily_wind_speed']))/np.std(winter1['avg_daily_wind_speed'])"
   ]
  },
  {
   "cell_type": "code",
   "execution_count": null,
   "id": "616cb92b-862e-4534-a495-d9931317ca7d",
   "metadata": {},
   "outputs": [],
   "source": [
    "winter1['dt_z']=(winter1['avg_daily_temp']-np.mean(winter1['avg_daily_temp']))/np.std(winter1['avg_daily_temp'])"
   ]
  },
  {
   "cell_type": "code",
   "execution_count": null,
   "id": "4184d47d-1b8f-4618-820e-afde7433cc5d",
   "metadata": {},
   "outputs": [],
   "source": [
    "winter1.head()"
   ]
  },
  {
   "cell_type": "code",
   "execution_count": null,
   "id": "4d72403f-b58e-4bd5-957b-4bca69126bb8",
   "metadata": {},
   "outputs": [],
   "source": [
    "for index, row in winter1.iterrows():\n",
    "    score1 = 0\n",
    "    if row.precip_z <= 0:\n",
    "        score1 += 1.67\n",
    "    if row.snow_z <= 0:\n",
    "        score1 += 1.67\n",
    "    if row.maxt_z >= 0:\n",
    "        score1 += 1.67\n",
    "    if row.mint_z >= 0:\n",
    "        score1 += 1.67\n",
    "    if row.ws_z <= -0.67:\n",
    "        score1 += 1.67\n",
    "    if row.dt_z >= 0:\n",
    "       score1 += 1.67\n",
    "    winter1.loc[index, 'score1']= score1"
   ]
  },
  {
   "cell_type": "code",
   "execution_count": null,
   "id": "948f6be4-6cfd-4aaf-92c6-aeeb30001369",
   "metadata": {},
   "outputs": [],
   "source": [
    "for index, row in winter1.iterrows():\n",
    "    score2 = 0\n",
    "    if row.precip_z <= 0:\n",
    "        score2 += 2\n",
    "    if row.snow_z <= 0:\n",
    "        score2 += 2\n",
    "    if row.maxt_z >= 0:\n",
    "        score2 += 2\n",
    "    if row.mint_z >= 0:\n",
    "        score2 += 2\n",
    "    if row.ws_z <= -0.67:\n",
    "        score2 += 1\n",
    "    if row.dt_z >= 0:\n",
    "       score2 += 1\n",
    "    winter1.loc[index, 'score2']= score2"
   ]
  },
  {
   "cell_type": "code",
   "execution_count": null,
   "id": "3e780bdf-d212-4975-bac4-4bd67767f356",
   "metadata": {},
   "outputs": [],
   "source": [
    "for index, row in winter1.iterrows():\n",
    "    score3 = 0\n",
    "    if row.precip_z <= 0.67:\n",
    "        score3 += 2\n",
    "    if row.snow_z <= 0.67:\n",
    "        score3 += 2\n",
    "    if row.maxt_z >= -0.67:\n",
    "        score3 += 2\n",
    "    if row.mint_z >= -0.67:\n",
    "        score3 += 2\n",
    "    if row.ws_z <= -0.67:\n",
    "        score3 += 1\n",
    "    if row.dt_z >= 0:\n",
    "       score3 += 1\n",
    "    winter1.loc[index, 'score3']= score3"
   ]
  },
  {
   "cell_type": "code",
   "execution_count": null,
   "id": "ef8ed75c-33e0-4cc5-802c-c49df1c11411",
   "metadata": {},
   "outputs": [],
   "source": [
    "winter1.tail()"
   ]
  },
  {
   "cell_type": "code",
   "execution_count": null,
   "id": "1c96b27b-7b17-4526-896f-c99039bd40eb",
   "metadata": {},
   "outputs": [],
   "source": [
    "pd.set_option('display.max_rows', None)\n",
    "winterscores=winter1.groupby(['month', 'day'])[['score1', 'score2', 'score3']].agg(['mean', 'min', 'max']).reset_index()\n",
    "winterscores.columns=['month', 'day', 's1_mean', 's1_min', 's1_max', 's2_mean', 's2_min', 's2_max', 's3_mean', 's3_min', 's3_max']\n",
    "winterscores['month2sort']=winterscores['month']\n",
    "winterscores"
   ]
  },
  {
   "cell_type": "markdown",
   "id": "5df323c4-71bb-4d28-80e7-b00734a34a37",
   "metadata": {},
   "source": [
    "Need December to be first in dataframe to have in the correct order of season, so changing month number (12) to 0 for sorting purposes so rolling window is accurate by seasonal calendar."
   ]
  },
  {
   "cell_type": "code",
   "execution_count": null,
   "id": "dc984434-c974-41de-8acf-d445a95facad",
   "metadata": {},
   "outputs": [],
   "source": [
    "winterscores['month2sort']=winterscores['month2sort'].astype(str)"
   ]
  },
  {
   "cell_type": "code",
   "execution_count": null,
   "id": "c9d10bc4-7a0b-4765-a9cb-60a58ccafff9",
   "metadata": {},
   "outputs": [],
   "source": [
    "winterscores['month2sort']=winterscores['month2sort'].replace('12','0').astype(int)\n",
    "winterscores1=winterscores.sort_values(by=['month2sort', 'day'])"
   ]
  },
  {
   "cell_type": "code",
   "execution_count": null,
   "id": "3c37c0f0-3497-40f5-ad93-101b22658873",
   "metadata": {},
   "outputs": [],
   "source": [
    "winterwindows=winterscores1.rolling(7, center=True).agg({'s1_mean':'mean', 's2_mean':'mean','s3_mean':'mean'})"
   ]
  },
  {
   "cell_type": "code",
   "execution_count": null,
   "id": "924e8559-ff8a-490e-8a30-9af74bf25505",
   "metadata": {
    "scrolled": true
   },
   "outputs": [],
   "source": [
    "winterdates=pd.concat([winterscores1, winterwindows], axis=1)\n",
    "winterdates.columns=['month', 'day', 's1_mean', 's1_min', 's1_max', 's2_mean', 's2_min', 's2_max', 's3_mean', 's3_min', 's3_max', 'month2sort', 's1_window', 's2_window', 's3_window']\n",
    "winterdates"
   ]
  },
  {
   "cell_type": "code",
   "execution_count": null,
   "id": "2a5c21a7-02b6-4d48-9e16-7a8b89ca29a6",
   "metadata": {},
   "outputs": [],
   "source": [
    "winterdates.nlargest(5, 's1_window')"
   ]
  },
  {
   "cell_type": "code",
   "execution_count": null,
   "id": "cfd2bf61-8dc6-4d26-a272-d59c8d867d09",
   "metadata": {},
   "outputs": [],
   "source": [
    "winterdates.nlargest(5, 's2_window')"
   ]
  },
  {
   "cell_type": "code",
   "execution_count": null,
   "id": "bd90f2af-39ff-4448-9596-5fccd960cd16",
   "metadata": {},
   "outputs": [],
   "source": [
    "winterdates.nlargest(5, 's3_window')"
   ]
  },
  {
   "cell_type": "code",
   "execution_count": null,
   "id": "3e6aa556-75b2-490d-b1d8-6705c0445a4c",
   "metadata": {},
   "outputs": [],
   "source": [
    "sprecip_mean=np.mean(spring1['precipitation'])\n",
    "sprecip_std=np.std(spring1['precipitation'])\n",
    "spring1['precip_z']=(spring1['precipitation']-sprecip_mean)/sprecip_std\n",
    "spring1.head()"
   ]
  },
  {
   "cell_type": "code",
   "execution_count": null,
   "id": "947704db-064c-4c70-88e8-c6f8a93fea00",
   "metadata": {},
   "outputs": [],
   "source": [
    "spring1['maxt_z']=(spring1['max_temp']-np.mean(spring1['max_temp']))/np.std(spring1['max_temp'])"
   ]
  },
  {
   "cell_type": "code",
   "execution_count": null,
   "id": "c95e045f-3a49-4b4f-888a-23c0ea5be067",
   "metadata": {},
   "outputs": [],
   "source": [
    "spring1['mint_z']=(spring1['min_temp']-np.mean(spring1['min_temp']))/np.std(spring1['min_temp'])"
   ]
  },
  {
   "cell_type": "code",
   "execution_count": null,
   "id": "c7aeb54c-2ead-4514-9f69-da8e95204d69",
   "metadata": {},
   "outputs": [],
   "source": [
    "spring1['ws_z']=(spring1['avg_daily_wind_speed']-np.mean(spring1['avg_daily_wind_speed']))/np.std(spring1['avg_daily_wind_speed'])"
   ]
  },
  {
   "cell_type": "code",
   "execution_count": null,
   "id": "60d702d4-d778-4cc9-9c18-490111de2c68",
   "metadata": {},
   "outputs": [],
   "source": [
    "spring1['dt_z']=(spring1['avg_daily_temp']-np.mean(spring1['avg_daily_temp']))/np.std(spring1['avg_daily_temp'])"
   ]
  },
  {
   "cell_type": "code",
   "execution_count": null,
   "id": "63f6075d-8cae-4362-9995-501929b38967",
   "metadata": {},
   "outputs": [],
   "source": [
    "for index, row in spring1.iterrows():\n",
    "    score1 = 0\n",
    "    if row.precip_z <= 0:\n",
    "        score1 += 2\n",
    "    if row.maxt_z >= 0 and row.maxt_z <=.67:\n",
    "        score1 += 2\n",
    "    if row.mint_z >= 0:\n",
    "        score1 += 2\n",
    "    if row.ws_z <= -0.67:\n",
    "        score1 += 2\n",
    "    if row.dt_z >= 0:\n",
    "       score1 += 2\n",
    "    spring1.loc[index, 'score1']= score1"
   ]
  },
  {
   "cell_type": "code",
   "execution_count": null,
   "id": "e4705cc7-f8e6-448f-ab94-c4332f0dfa43",
   "metadata": {},
   "outputs": [],
   "source": [
    "for index, row in spring1.iterrows():\n",
    "    score2 = 0\n",
    "    if row.precip_z <= 0:\n",
    "        score2 += 2.67\n",
    "    if row.maxt_z >= 0 and row.maxt_z <=.67:\n",
    "        score2 += 2.67\n",
    "    if row.mint_z >= 0:\n",
    "        score2 += 2.67\n",
    "    if row.ws_z <= -0.67:\n",
    "        score2 += 1\n",
    "    if row.dt_z >= 0:\n",
    "       score2 += 1\n",
    "    spring1.loc[index, 'score2']= score2"
   ]
  },
  {
   "cell_type": "code",
   "execution_count": null,
   "id": "566f26e2-67fa-411e-a262-70414559467a",
   "metadata": {},
   "outputs": [],
   "source": [
    "for index, row in spring1.iterrows():\n",
    "    score3 = 0\n",
    "    if row.precip_z <= 0.67:\n",
    "        score3 += 2.67\n",
    "    if row.maxt_z >= -0.67 and row.maxt_z <=0.67:\n",
    "        score3 += 2.67\n",
    "    if row.mint_z >= -.67:\n",
    "        score3 += 2.67\n",
    "    if row.ws_z <= -0.67:\n",
    "        score3 += 1\n",
    "    if row.dt_z >= 0:\n",
    "       score3 += 1\n",
    "    spring1.loc[index, 'score3']= score3"
   ]
  },
  {
   "cell_type": "code",
   "execution_count": null,
   "id": "93db0a52-26c7-4818-8515-020494ed73ad",
   "metadata": {},
   "outputs": [],
   "source": [
    "spring1.tail()"
   ]
  },
  {
   "cell_type": "code",
   "execution_count": null,
   "id": "bebe37db-0ba8-4632-bb2f-15ff3643a313",
   "metadata": {},
   "outputs": [],
   "source": [
    "pd.set_option('display.max_rows', None)\n",
    "springscores=spring1.groupby(['month', 'day'])[['score1', 'score2', 'score3']].agg(['mean', 'min', 'max']).reset_index()\n",
    "springscores.columns=['month', 'day', 's1_mean', 's1_min', 's1_max', 's2_mean', 's2_min', 's2_max', 's3_mean', 's3_min', 's3_max']\n",
    "springscores"
   ]
  },
  {
   "cell_type": "code",
   "execution_count": null,
   "id": "db001e17-3283-43ac-ae38-08f1477ca6d7",
   "metadata": {},
   "outputs": [],
   "source": [
    "springwindows=springscores.rolling(7, center=True).agg({'s1_mean':'mean', 's2_mean':'mean','s3_mean':'mean'})"
   ]
  },
  {
   "cell_type": "code",
   "execution_count": null,
   "id": "4b8e392a-4814-490b-9fcc-6565bf845a84",
   "metadata": {
    "scrolled": true
   },
   "outputs": [],
   "source": [
    "springdates=pd.concat([springscores, springwindows], axis=1)\n",
    "springdates.columns=['month', 'day', 's1_mean', 's1_min', 's1_max', 's2_mean', 's2_min', 's2_max', 's3_mean', 's3_min', 's3_max', 's1_window', 's2_window', 's3_window']\n",
    "springdates"
   ]
  },
  {
   "cell_type": "code",
   "execution_count": null,
   "id": "16c99f92-a827-4bb7-a5d6-41ce5a771358",
   "metadata": {},
   "outputs": [],
   "source": [
    "springdates.nlargest(5, 's1_window')"
   ]
  },
  {
   "cell_type": "code",
   "execution_count": null,
   "id": "c1156e26-7ef0-49f7-b5b5-98cb3758d71e",
   "metadata": {},
   "outputs": [],
   "source": [
    "springdates.nlargest(5, 's2_window')"
   ]
  },
  {
   "cell_type": "code",
   "execution_count": null,
   "id": "98fc7aa1-74a2-4dd7-aa19-cda7f4fcfa44",
   "metadata": {},
   "outputs": [],
   "source": [
    "springdates.nlargest(5, 's3_window')"
   ]
  },
  {
   "cell_type": "code",
   "execution_count": null,
   "id": "ac4c8de4-160b-4546-b09f-8d82133fa078",
   "metadata": {},
   "outputs": [],
   "source": [
    "sumprecip_mean=np.mean(summer1['precipitation'])\n",
    "sumprecip_std=np.std(summer1['precipitation'])\n",
    "summer1['precip_z']=(summer1['precipitation']-sumprecip_mean)/sumprecip_std\n",
    "summer1.head()"
   ]
  },
  {
   "cell_type": "code",
   "execution_count": null,
   "id": "da0b9e2d-1b4b-4b2b-89c5-88a0a34a463a",
   "metadata": {},
   "outputs": [],
   "source": [
    "summer1['maxt_z']=(summer1['max_temp']-np.mean(summer1['max_temp']))/np.std(summer1['max_temp'])"
   ]
  },
  {
   "cell_type": "code",
   "execution_count": null,
   "id": "474d6ad2-c0d1-4362-b528-3042d4adf60e",
   "metadata": {},
   "outputs": [],
   "source": [
    "summer1['mint_z']=(summer1['min_temp']-np.mean(summer1['min_temp']))/np.std(summer1['min_temp'])"
   ]
  },
  {
   "cell_type": "code",
   "execution_count": null,
   "id": "7c3f39ea-bb1e-4e56-9da2-8ac85ececc82",
   "metadata": {},
   "outputs": [],
   "source": [
    "summer1['ws_z']=(summer1['avg_daily_wind_speed']-np.mean(summer1['avg_daily_wind_speed']))/np.std(summer1['avg_daily_wind_speed'])"
   ]
  },
  {
   "cell_type": "code",
   "execution_count": null,
   "id": "42006c1f-5e4c-44d4-94f8-039e0f1d6a6b",
   "metadata": {},
   "outputs": [],
   "source": [
    "summer1['humid_z']=(summer1['avg_relative_humidity']-np.mean(summer1['avg_relative_humidity']))/np.std(summer1['avg_relative_humidity'])"
   ]
  },
  {
   "cell_type": "code",
   "execution_count": null,
   "id": "0e39d33d-163f-42d1-a368-51e133b5b526",
   "metadata": {},
   "outputs": [],
   "source": [
    "summer1['dt_z']=(summer1['avg_daily_temp']-np.mean(summer1['avg_daily_temp']))/np.std(summer1['avg_daily_temp'])"
   ]
  },
  {
   "cell_type": "code",
   "execution_count": null,
   "id": "29570a80-37d6-4cea-8b14-fce132841877",
   "metadata": {},
   "outputs": [],
   "source": [
    "for index, row in summer1.iterrows():\n",
    "    score1 = 0\n",
    "    if row.precip_z <= 0:\n",
    "        score1 += 1.67\n",
    "    if row.maxt_z <= 0:\n",
    "        score1 += 1.67\n",
    "    if row.mint_z >= 0:\n",
    "        score1 += 1.67\n",
    "    if row.ws_z <= 0:\n",
    "        score1 += 1.67\n",
    "    if row.humid_z <= 0:\n",
    "        score1 += 1.67\n",
    "    if row.dt_z >= 0:\n",
    "       score1 += 1.67\n",
    "    summer1.loc[index, 'score1']= score1"
   ]
  },
  {
   "cell_type": "code",
   "execution_count": null,
   "id": "8bfd20be-2e5d-416e-a49d-953cd811931e",
   "metadata": {},
   "outputs": [],
   "source": [
    "for index, row in summer1.iterrows():\n",
    "    score2 = 0\n",
    "    if row.precip_z <= 0:\n",
    "        score2 += 2\n",
    "    if row.maxt_z <= 0:\n",
    "        score2 += 2\n",
    "    if row.mint_z >= 0:\n",
    "        score2 += 2\n",
    "    if row.ws_z <= 0:\n",
    "        score2 += 1\n",
    "    if row.humid_z <= 0:\n",
    "        score2 += 2\n",
    "    if row.dt_z >= 0:\n",
    "       score2 += 1\n",
    "    summer1.loc[index, 'score2']= score2"
   ]
  },
  {
   "cell_type": "code",
   "execution_count": null,
   "id": "0041585d-f2be-4ede-9d30-16956e16899e",
   "metadata": {},
   "outputs": [],
   "source": [
    "for index, row in summer1.iterrows():\n",
    "    if row.precip_z <= 0.67:\n",
    "        score3 += 2\n",
    "    if row.maxt_z <= 0.67:\n",
    "        score3 += 2\n",
    "    if row.mint_z >= -0.67:\n",
    "        score3 += 2\n",
    "    if row.ws_z <= 0:\n",
    "        score3 += 1\n",
    "    if row.humid_z <= 0:\n",
    "        score2 += 2\n",
    "    if row.dt_z >= 0:\n",
    "       score3 += 1\n",
    "    summer1.loc[index, 'score3']= score3"
   ]
  },
  {
   "cell_type": "code",
   "execution_count": null,
   "id": "7dbc6364-1c8f-4df8-9c26-0861689d63bf",
   "metadata": {},
   "outputs": [],
   "source": [
    "summer1.tail()"
   ]
  },
  {
   "cell_type": "code",
   "execution_count": null,
   "id": "3b7615f8-861b-4399-88f1-b70ceb01faa1",
   "metadata": {},
   "outputs": [],
   "source": [
    "pd.set_option('display.max_rows', None)\n",
    "summerscores=summer1.groupby(['month', 'day'])[['score1', 'score2', 'score3']].agg(['mean', 'min', 'max']).reset_index()\n",
    "summerscores.columns=['month', 'day', 's1_mean', 's1_min', 's1_max', 's2_mean', 's2_min', 's2_max', 's3_mean', 's3_min', 's3_max']\n",
    "summerscores"
   ]
  },
  {
   "cell_type": "code",
   "execution_count": null,
   "id": "956da89a-57a1-4642-a145-20f83c3fac22",
   "metadata": {},
   "outputs": [],
   "source": [
    "summerwindows=summerscores.rolling(7, center=True).agg({'s1_mean':'mean', 's2_mean':'mean','s3_mean':'mean'})"
   ]
  },
  {
   "cell_type": "code",
   "execution_count": null,
   "id": "9341b72f-0a04-4b6c-83d4-a62d1012cd8f",
   "metadata": {
    "scrolled": true
   },
   "outputs": [],
   "source": [
    "summerdates=pd.concat([summerscores, summerwindows], axis=1)\n",
    "summerdates.columns=['month', 'day', 's1_mean', 's1_min', 's1_max', 's2_mean', 's2_min', 's2_max', 's3_mean', 's3_min', 's3_max', 's1_window', 's2_window', 's3_window']\n",
    "summerdates"
   ]
  },
  {
   "cell_type": "code",
   "execution_count": null,
   "id": "eaf346ac-37de-42e6-8324-f5f20ee75327",
   "metadata": {},
   "outputs": [],
   "source": [
    "summerdates.nlargest(5, 's1_window')"
   ]
  },
  {
   "cell_type": "code",
   "execution_count": null,
   "id": "69f4e506-b723-424e-83bd-30e4fa76a8f1",
   "metadata": {},
   "outputs": [],
   "source": [
    "summerdates.nlargest(5, 's2_window')"
   ]
  },
  {
   "cell_type": "code",
   "execution_count": null,
   "id": "c18980d7-d223-435f-a606-6cda1d0dffdc",
   "metadata": {},
   "outputs": [],
   "source": [
    "summerdates.nlargest(5, 's3_window')"
   ]
  },
  {
   "cell_type": "code",
   "execution_count": null,
   "id": "6e20a101-8d2a-4eab-8d33-475c78851fa4",
   "metadata": {},
   "outputs": [],
   "source": [
    "fall1['maxt_z']=(fall1['max_temp']-np.mean(fall1['max_temp']))/np.std(fall1['max_temp'])"
   ]
  },
  {
   "cell_type": "code",
   "execution_count": null,
   "id": "2c3d616c-0476-4db0-a76f-adfd318b5868",
   "metadata": {},
   "outputs": [],
   "source": [
    "fall1['mint_z']=(fall1['min_temp']-np.mean(fall1['min_temp']))/np.std(fall1['min_temp'])"
   ]
  },
  {
   "cell_type": "code",
   "execution_count": null,
   "id": "2461ad04-e42c-4929-afa7-4c373915f8d0",
   "metadata": {},
   "outputs": [],
   "source": [
    "fall1['ws_z']=(fall1['avg_daily_wind_speed']-np.mean(fall1['avg_daily_wind_speed']))/np.std(fall1['avg_daily_wind_speed'])"
   ]
  },
  {
   "cell_type": "code",
   "execution_count": null,
   "id": "fb58526a-f70a-442d-9e50-c8ab11abaa55",
   "metadata": {},
   "outputs": [],
   "source": [
    "fall1['humid_z']=(fall1['avg_relative_humidity']-np.mean(fall1['avg_relative_humidity']))/np.std(fall1['avg_relative_humidity'])"
   ]
  },
  {
   "cell_type": "code",
   "execution_count": null,
   "id": "0efd3b56-dfba-4f1e-9902-0614c9ecea94",
   "metadata": {},
   "outputs": [],
   "source": [
    "fall1['dt_z']=(fall1['avg_daily_temp']-np.mean(fall1['avg_daily_temp']))/np.std(fall1['avg_daily_temp'])"
   ]
  },
  {
   "cell_type": "code",
   "execution_count": null,
   "id": "b5e90017-7c73-4e22-8e0b-5c763ed39e49",
   "metadata": {},
   "outputs": [],
   "source": [
    "for index, row in fall1.iterrows():\n",
    "    score1 = 0\n",
    "    if row.precip_z <= 0:\n",
    "        score1 += 1.67\n",
    "    if row.maxt_z >= 0 and row.maxt_z <=.67:\n",
    "        score1 += 1.67\n",
    "    if row.mint_z >= 0:\n",
    "        score1 += 1.67\n",
    "    if row.ws_z <= 0:\n",
    "        score1 += 1.67\n",
    "    if row.humid_z <= 0:\n",
    "        score1 += 1.67\n",
    "    if row.dt_z >= 0:\n",
    "       score1 += 1.67\n",
    "    fall1.loc[index, 'score1']= score1"
   ]
  },
  {
   "cell_type": "code",
   "execution_count": null,
   "id": "4a3b4745-6070-4d1d-be08-203e171d8931",
   "metadata": {},
   "outputs": [],
   "source": [
    "for index, row in fall1.iterrows():\n",
    "    score2 = 0\n",
    "    if row.precip_z <= 0:\n",
    "        score2 += 2\n",
    "    if row.maxt_z >= 0 and row.maxt_z <=.67:\n",
    "        score2 += 2\n",
    "    if row.mint_z >= 0:\n",
    "        score2 += 2\n",
    "    if row.ws_z <= 0:\n",
    "        score2 += 2\n",
    "    if row.humid_z <= 0:\n",
    "        score2 += 1\n",
    "    if row.dt_z >= 0:\n",
    "       score2 += 1\n",
    "    fall1.loc[index, 'score2']= score2"
   ]
  },
  {
   "cell_type": "code",
   "execution_count": null,
   "id": "13654423-5bc4-44d5-ad53-9facf6d1ee85",
   "metadata": {},
   "outputs": [],
   "source": [
    "for index, row in fall1.iterrows():\n",
    "    score3=0\n",
    "    if row.precip_z <= 0.67:\n",
    "        score3 += 2\n",
    "    if row.maxt_z >= -0.67 and row.maxt_z <=0.67:\n",
    "        score3 += 2\n",
    "    if row.mint_z >= -0.67:\n",
    "        score3 += 2\n",
    "    if row.ws_z <= 0:\n",
    "        score3 += 2\n",
    "    if row.humid_z <= 0:\n",
    "        score2 += 1\n",
    "    if row.dt_z >= 0:\n",
    "       score3 += 1\n",
    "    fall1.loc[index, 'score3']= score3"
   ]
  },
  {
   "cell_type": "code",
   "execution_count": null,
   "id": "b6d7ad25-06b3-4044-8e7e-5b6ade99655b",
   "metadata": {},
   "outputs": [],
   "source": [
    "fall1.tail()"
   ]
  },
  {
   "cell_type": "code",
   "execution_count": null,
   "id": "a81857e1-16ed-4da1-a5ed-8efed066c430",
   "metadata": {},
   "outputs": [],
   "source": [
    "pd.set_option('display.max_rows', None)\n",
    "fallscores=fall1.groupby(['month', 'day'])[['score1', 'score2', 'score3']].agg(['mean', 'min', 'max']).reset_index()\n",
    "fallscores.columns=['month', 'day', 's1_mean', 's1_min', 's1_max', 's2_mean', 's2_min', 's2_max', 's3_mean', 's3_min', 's3_max']\n",
    "fallscores"
   ]
  },
  {
   "cell_type": "code",
   "execution_count": null,
   "id": "a9e270da-64e6-4ad4-a01b-b2135d1cdeb4",
   "metadata": {},
   "outputs": [],
   "source": [
    "fallwindows=fallscores.rolling(7, center=True).agg({'s1_mean':'mean', 's2_mean':'mean','s3_mean':'mean'})"
   ]
  },
  {
   "cell_type": "code",
   "execution_count": null,
   "id": "fd8a5b52-c223-4595-ac1e-1e0da566e12a",
   "metadata": {},
   "outputs": [],
   "source": [
    "falldates=pd.concat([fallscores, fallwindows], axis=1)\n",
    "falldates.columns=['month', 'day', 's1_mean', 's1_min', 's1_max', 's2_mean', 's2_min', 's2_max', 's3_mean', 's3_min', 's3_max', 's1_window', 's2_window', 's3_window']\n",
    "falldates"
   ]
  },
  {
   "cell_type": "code",
   "execution_count": null,
   "id": "6d1c9dd1-622d-49e2-a692-0aec0575c790",
   "metadata": {},
   "outputs": [],
   "source": [
    "falldates.nlargest(5, 's1_window')"
   ]
  },
  {
   "cell_type": "code",
   "execution_count": null,
   "id": "ac26cfc4-5772-4fd6-a3fe-c9487b7a736c",
   "metadata": {},
   "outputs": [],
   "source": [
    "falldates.nlargest(5, 's2_window')"
   ]
  },
  {
   "cell_type": "code",
   "execution_count": null,
   "id": "bb4033da-759f-4b7b-91fd-497f7499653f",
   "metadata": {},
   "outputs": [],
   "source": [
    "falldates.nlargest(5, 's3_window')"
   ]
  },
  {
   "cell_type": "code",
   "execution_count": null,
   "id": "a7664ad0-211c-424b-a06d-8b17d83dd12a",
   "metadata": {},
   "outputs": [],
   "source": [
    "#winterscores.to_csv('../data/winterscores.csv')\n",
    "#springscores.to_csv('../data/springscores.csv')\n",
    "#summerscores.to_csv('../data/summerscores.csv')\n",
    "#fallscores.to_csv('../data/fallscores.csv')"
   ]
  },
  {
   "cell_type": "code",
   "execution_count": null,
   "id": "05b59836-1c3b-41a8-be27-042cfdc7b1ad",
   "metadata": {},
   "outputs": [],
   "source": [
    "#winter1.to_csv('../data/winter1.csv')\n",
    "#spring1.to_csv('../data/spring1.csv')\n",
    "#summer1.to_csv('../data/summer1.csv')\n",
    "#fall1.to_csv('../data/fall1.csv')"
   ]
  },
  {
   "cell_type": "code",
   "execution_count": null,
   "id": "99456960-66b1-42e5-ab4a-5a57c2d56f53",
   "metadata": {},
   "outputs": [],
   "source": []
  }
 ],
 "metadata": {
  "kernelspec": {
   "display_name": "Python 3 (ipykernel)",
   "language": "python",
   "name": "python3"
  },
  "language_info": {
   "codemirror_mode": {
    "name": "ipython",
    "version": 3
   },
   "file_extension": ".py",
   "mimetype": "text/x-python",
   "name": "python",
   "nbconvert_exporter": "python",
   "pygments_lexer": "ipython3",
   "version": "3.11.7"
  }
 },
 "nbformat": 4,
 "nbformat_minor": 5
}
